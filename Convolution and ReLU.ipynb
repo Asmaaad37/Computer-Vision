{
  "metadata": {
    "kernelspec": {
      "display_name": "Python 3",
      "language": "python",
      "name": "python3"
    },
    "language_info": {
      "name": "python",
      "version": "3.10.13",
      "mimetype": "text/x-python",
      "codemirror_mode": {
        "name": "ipython",
        "version": 3
      },
      "pygments_lexer": "ipython3",
      "nbconvert_exporter": "python",
      "file_extension": ".py"
    },
    "jupytext": {
      "formats": "md,ipynb"
    },
    "kaggle": {
      "accelerator": "none",
      "dataSources": [
        {
          "sourceId": 1338830,
          "sourceType": "datasetVersion",
          "datasetId": 708136
        },
        {
          "sourceId": 1363948,
          "sourceType": "datasetVersion",
          "datasetId": 701538
        },
        {
          "sourceId": 1495782,
          "sourceType": "datasetVersion",
          "datasetId": 878523
        }
      ],
      "dockerImageVersionId": 30646,
      "isInternetEnabled": false,
      "language": "python",
      "sourceType": "notebook",
      "isGpuEnabled": false
    },
    "colab": {
      "name": "Exercise: Convolution and ReLU",
      "provenance": [],
      "include_colab_link": true
    }
  },
  "nbformat_minor": 0,
  "nbformat": 4,
  "cells": [
    {
      "cell_type": "markdown",
      "metadata": {
        "id": "view-in-github",
        "colab_type": "text"
      },
      "source": [
        "<a href=\"https://colab.research.google.com/github/Asmaaad37/Computer-Vision/blob/main/Convolution%20and%20ReLU.ipynb\" target=\"_parent\"><img src=\"https://colab.research.google.com/assets/colab-badge.svg\" alt=\"Open In Colab\"/></a>"
      ]
    },
    {
      "source": [
        "# IMPORTANT: RUN THIS CELL IN ORDER TO IMPORT YOUR KAGGLE DATA SOURCES,\n",
        "# THEN FEEL FREE TO DELETE THIS CELL.\n",
        "# NOTE: THIS NOTEBOOK ENVIRONMENT DIFFERS FROM KAGGLE'S PYTHON\n",
        "# ENVIRONMENT SO THERE MAY BE MISSING LIBRARIES USED BY YOUR\n",
        "# NOTEBOOK.\n",
        "import kagglehub\n",
        "ryanholbrook_cv_course_models_path = kagglehub.dataset_download('ryanholbrook/cv-course-models')\n",
        "ryanholbrook_computer_vision_resources_path = kagglehub.dataset_download('ryanholbrook/computer-vision-resources')\n",
        "ryanholbrook_car_or_truck_path = kagglehub.dataset_download('ryanholbrook/car-or-truck')\n",
        "\n",
        "print('Data source import complete.')\n"
      ],
      "metadata": {
        "id": "uNQ6Yz0wGcxS"
      },
      "cell_type": "code",
      "outputs": [],
      "execution_count": null
    },
    {
      "cell_type": "markdown",
      "source": [
        "**This notebook is an exercise in the [Computer Vision](https://www.kaggle.com/learn/computer-vision) course.  You can reference the tutorial at [this link](https://www.kaggle.com/ryanholbrook/convolution-and-relu).**\n",
        "\n",
        "---\n"
      ],
      "metadata": {
        "id": "wsIsz_qPGcxT"
      }
    },
    {
      "cell_type": "markdown",
      "source": [
        "# Introduction #\n",
        "\n",
        "In this exercise, you'll work on building some intuition around feature extraction. First, we'll walk through the example we did in the tutorial again, but this time, with a kernel you choose yourself. We've mostly been working with images in this course, but what's behind all of the operations we're learning about is mathematics. So, we'll also take a look at how these feature maps can be represented instead as arrays of numbers and what effect convolution with a kernel will have on them.\n",
        "\n",
        "Run the cell below to get started!"
      ],
      "metadata": {
        "id": "yqC4foH0GcxU"
      }
    },
    {
      "cell_type": "code",
      "source": [
        "# Setup feedback system\n",
        "from learntools.core import binder\n",
        "binder.bind(globals())\n",
        "from learntools.computer_vision.ex2 import *\n",
        "\n",
        "import numpy as np\n",
        "import tensorflow as tf\n",
        "import matplotlib.pyplot as plt\n",
        "\n",
        "plt.rc('figure', autolayout=True)\n",
        "plt.rc('axes', labelweight='bold', labelsize='large',\n",
        "       titleweight='bold', titlesize=18, titlepad=10)\n",
        "plt.rc('image', cmap='magma')\n",
        "\n",
        "tf.config.run_functions_eagerly(True)"
      ],
      "metadata": {
        "trusted": true,
        "execution": {
          "iopub.status.busy": "2025-02-11T20:24:45.094366Z",
          "iopub.execute_input": "2025-02-11T20:24:45.094722Z",
          "iopub.status.idle": "2025-02-11T20:25:02.444432Z",
          "shell.execute_reply.started": "2025-02-11T20:24:45.094694Z",
          "shell.execute_reply": "2025-02-11T20:25:02.44326Z"
        },
        "id": "UkMep-MYGcxU"
      },
      "outputs": [],
      "execution_count": null
    },
    {
      "cell_type": "markdown",
      "source": [
        "# Apply Transformations #\n",
        "\n",
        "The next few exercises walk through feature extraction just like the example in the tutorial. Run the following cell to load an image we'll use for the next few exercises."
      ],
      "metadata": {
        "id": "UPrxdXlNGcxV"
      }
    },
    {
      "cell_type": "code",
      "source": [
        "image_path = '../input/computer-vision-resources/car_illus.jpg'\n",
        "image = tf.io.read_file(image_path)\n",
        "image = tf.io.decode_jpeg(image, channels=1)\n",
        "image = tf.image.resize(image, size=[400, 400])\n",
        "\n",
        "img = tf.squeeze(image).numpy()\n",
        "plt.figure(figsize=(6, 6))\n",
        "plt.imshow(img, cmap='gray')\n",
        "plt.axis('off')\n",
        "plt.show();"
      ],
      "metadata": {
        "trusted": true,
        "execution": {
          "iopub.status.busy": "2025-02-11T20:25:12.590329Z",
          "iopub.execute_input": "2025-02-11T20:25:12.591736Z",
          "iopub.status.idle": "2025-02-11T20:25:13.196929Z",
          "shell.execute_reply.started": "2025-02-11T20:25:12.591664Z",
          "shell.execute_reply": "2025-02-11T20:25:13.195259Z"
        },
        "id": "Oqa6MgFrGcxV"
      },
      "outputs": [],
      "execution_count": null
    },
    {
      "cell_type": "markdown",
      "source": [
        "You can run this cell to see some standard kernels used in image processing."
      ],
      "metadata": {
        "id": "C6qvm4LnGcxV"
      }
    },
    {
      "cell_type": "code",
      "source": [
        "import learntools.computer_vision.visiontools as visiontools\n",
        "from learntools.computer_vision.visiontools import edge, bottom_sobel, emboss, sharpen\n",
        "\n",
        "kernels = [edge, bottom_sobel, emboss, sharpen]\n",
        "names = [\"Edge Detect\", \"Bottom Sobel\", \"Emboss\", \"Sharpen\"]\n",
        "\n",
        "plt.figure(figsize=(12, 12))\n",
        "for i, (kernel, name) in enumerate(zip(kernels, names)):\n",
        "    plt.subplot(1, 4, i+1)\n",
        "    visiontools.show_kernel(kernel)\n",
        "    plt.title(name)\n",
        "plt.tight_layout()"
      ],
      "metadata": {
        "trusted": true,
        "execution": {
          "iopub.status.busy": "2025-02-11T20:25:22.343094Z",
          "iopub.execute_input": "2025-02-11T20:25:22.343504Z",
          "iopub.status.idle": "2025-02-11T20:25:22.781533Z",
          "shell.execute_reply.started": "2025-02-11T20:25:22.343461Z",
          "shell.execute_reply": "2025-02-11T20:25:22.780098Z"
        },
        "id": "NG1iNYhhGcxV"
      },
      "outputs": [],
      "execution_count": null
    },
    {
      "cell_type": "markdown",
      "source": [
        "# 1) Define Kernel #\n",
        "\n",
        "Use the next code cell to define a kernel. You have your choice of what kind of kernel to apply. One thing to keep in mind is that the *sum* of the numbers in the kernel determines how bright the final image is. Generally, you should try to keep the sum of the numbers between 0 and 1 (though that's not required for a correct answer).\n",
        "\n",
        "In general, a kernel can have any number of rows and columns. For this exercise, let's use a $3 \\times 3$ kernel, which often gives the best results. Define a kernel with `tf.constant`."
      ],
      "metadata": {
        "id": "zDJ8-1PlGcxW"
      }
    },
    {
      "cell_type": "code",
      "source": [
        "# YOUR CODE HERE: Define a kernel with 3 rows and 3 columns.\n",
        "kernel = tf.constant([\n",
        "    [-1, -1, -1],\n",
        "    [-1,  8, -1],\n",
        "    [-1, -1, -1],\n",
        "])\n",
        "# Uncomment to view kernel\n",
        "visiontools.show_kernel(kernel)\n",
        "\n",
        "# Check your answer\n",
        "q_1.check()"
      ],
      "metadata": {
        "lines_to_next_cell": 0,
        "trusted": true,
        "execution": {
          "iopub.status.busy": "2025-02-11T20:29:35.768451Z",
          "iopub.execute_input": "2025-02-11T20:29:35.769828Z",
          "iopub.status.idle": "2025-02-11T20:29:35.926868Z",
          "shell.execute_reply.started": "2025-02-11T20:29:35.769783Z",
          "shell.execute_reply": "2025-02-11T20:29:35.925526Z"
        },
        "id": "RCTmHosAGcxW"
      },
      "outputs": [],
      "execution_count": null
    },
    {
      "cell_type": "code",
      "source": [
        "# Lines below will give you a hint or solution code\n",
        "q_1.hint()\n",
        "q_1.solution()"
      ],
      "metadata": {
        "trusted": true,
        "execution": {
          "iopub.status.busy": "2025-02-11T20:30:08.369172Z",
          "iopub.execute_input": "2025-02-11T20:30:08.369735Z",
          "iopub.status.idle": "2025-02-11T20:30:08.387651Z",
          "shell.execute_reply.started": "2025-02-11T20:30:08.369702Z",
          "shell.execute_reply": "2025-02-11T20:30:08.385725Z"
        },
        "id": "Xr4q_HkRGcxW"
      },
      "outputs": [],
      "execution_count": null
    },
    {
      "cell_type": "markdown",
      "source": [
        "Now we'll do the first step of feature extraction, the filtering step. First run this cell to do some reformatting for TensorFlow."
      ],
      "metadata": {
        "id": "E2F0DLPfGcxW"
      }
    },
    {
      "cell_type": "code",
      "source": [
        "# Reformat for batch compatibility.\n",
        "image = tf.image.convert_image_dtype(image, dtype=tf.float32)\n",
        "image = tf.expand_dims(image, axis=0)\n",
        "kernel = tf.reshape(kernel, [*kernel.shape, 1, 1])\n",
        "kernel = tf.cast(kernel, dtype=tf.float32)"
      ],
      "metadata": {
        "trusted": true,
        "execution": {
          "iopub.status.busy": "2025-02-11T20:30:26.730243Z",
          "iopub.execute_input": "2025-02-11T20:30:26.730658Z",
          "iopub.status.idle": "2025-02-11T20:30:26.744297Z",
          "shell.execute_reply.started": "2025-02-11T20:30:26.730631Z",
          "shell.execute_reply": "2025-02-11T20:30:26.743078Z"
        },
        "id": "iSHq-UX2GcxW"
      },
      "outputs": [],
      "execution_count": null
    },
    {
      "cell_type": "markdown",
      "source": [
        "# 2) Apply Convolution #\n",
        "\n",
        "Now we'll apply the kernel to the image by a convolution. The *layer* in Keras that does this is `layers.Conv2D`. What is the *backend function* in TensorFlow that performs the same operation?"
      ],
      "metadata": {
        "id": "Pv2nVtJEGcxW"
      }
    },
    {
      "cell_type": "code",
      "source": [
        "# YOUR CODE HERE: Give the TensorFlow convolution function (without arguments)\n",
        "conv_fn = tf.nn.conv2d\n",
        "\n",
        "# Check your answer\n",
        "q_2.check()"
      ],
      "metadata": {
        "lines_to_next_cell": 0,
        "trusted": true,
        "execution": {
          "iopub.status.busy": "2025-02-11T20:33:19.089661Z",
          "iopub.execute_input": "2025-02-11T20:33:19.090036Z",
          "iopub.status.idle": "2025-02-11T20:33:19.102044Z",
          "shell.execute_reply.started": "2025-02-11T20:33:19.09001Z",
          "shell.execute_reply": "2025-02-11T20:33:19.100392Z"
        },
        "id": "Y0KCRvB_GcxX"
      },
      "outputs": [],
      "execution_count": null
    },
    {
      "cell_type": "code",
      "source": [
        "# Lines below will give you a hint or solution code\n",
        "q_2.hint()\n",
        "q_2.solution()"
      ],
      "metadata": {
        "trusted": true,
        "execution": {
          "iopub.status.busy": "2025-02-11T20:32:29.490987Z",
          "iopub.execute_input": "2025-02-11T20:32:29.49139Z",
          "iopub.status.idle": "2025-02-11T20:32:29.506067Z",
          "shell.execute_reply.started": "2025-02-11T20:32:29.491363Z",
          "shell.execute_reply": "2025-02-11T20:32:29.50443Z"
        },
        "id": "LXP7uXznGcxX"
      },
      "outputs": [],
      "execution_count": null
    },
    {
      "cell_type": "markdown",
      "source": [
        "Once you've got the correct answer, run this next cell to execute the convolution and see the result!"
      ],
      "metadata": {
        "id": "S1g1KcADGcxX"
      }
    },
    {
      "cell_type": "code",
      "source": [
        "image_filter = conv_fn(\n",
        "    input=image,\n",
        "    filters=kernel,\n",
        "    strides=1, # or (1, 1)\n",
        "    padding='SAME',\n",
        ")\n",
        "\n",
        "plt.imshow(\n",
        "    # Reformat for plotting\n",
        "    tf.squeeze(image_filter)\n",
        ")\n",
        "plt.axis('off')\n",
        "plt.show();"
      ],
      "metadata": {
        "trusted": true,
        "execution": {
          "iopub.status.busy": "2025-02-11T20:33:32.051669Z",
          "iopub.execute_input": "2025-02-11T20:33:32.05211Z",
          "iopub.status.idle": "2025-02-11T20:33:32.280801Z",
          "shell.execute_reply.started": "2025-02-11T20:33:32.052082Z",
          "shell.execute_reply": "2025-02-11T20:33:32.27963Z"
        },
        "id": "Pr38hHCZGcxX"
      },
      "outputs": [],
      "execution_count": null
    },
    {
      "cell_type": "markdown",
      "source": [
        "Can you see how the kernel you chose relates to the feature map it produced?\n",
        "\n",
        "# 3) Apply ReLU #\n",
        "\n",
        "Now detect the feature with the ReLU function. In Keras, you'll usually use this as the activation function in a `Conv2D` layer. What is the *backend function* in TensorFlow that does the same thing?"
      ],
      "metadata": {
        "id": "DpIcXU4QGcxX"
      }
    },
    {
      "cell_type": "code",
      "source": [
        "# YOUR CODE HERE: Give the TensorFlow ReLU function (without arguments)\n",
        "relu_fn = tf.nn.relu\n",
        "\n",
        "# Check your answer\n",
        "q_3.check()"
      ],
      "metadata": {
        "lines_to_next_cell": 0,
        "trusted": true,
        "execution": {
          "iopub.status.busy": "2025-02-11T20:34:05.552797Z",
          "iopub.execute_input": "2025-02-11T20:34:05.553181Z",
          "iopub.status.idle": "2025-02-11T20:34:05.562915Z",
          "shell.execute_reply.started": "2025-02-11T20:34:05.553153Z",
          "shell.execute_reply": "2025-02-11T20:34:05.561561Z"
        },
        "id": "OzhIHMPgGcxX"
      },
      "outputs": [],
      "execution_count": null
    },
    {
      "cell_type": "code",
      "source": [
        "# Lines below will give you a hint or solution code\n",
        "#q_3.hint()\n",
        "#q_3.solution()"
      ],
      "metadata": {
        "id": "1QFk5_V6GcxY"
      },
      "outputs": [],
      "execution_count": null
    },
    {
      "cell_type": "markdown",
      "source": [
        "Once you've got the solution, run this cell to detect the feature with ReLU and see the result!\n",
        "\n",
        "The image you see below is the feature map produced by the kernel you chose. If you like, experiment with some of the other suggested kernels above, or, try to invent one that will extract a certain kind of feature.\n"
      ],
      "metadata": {
        "id": "ye2axYoYGcxY"
      }
    },
    {
      "cell_type": "code",
      "source": [
        "image_detect = relu_fn(image_filter)\n",
        "\n",
        "plt.imshow(\n",
        "    # Reformat for plotting\n",
        "    tf.squeeze(image_detect)\n",
        ")\n",
        "plt.axis('off')\n",
        "plt.show();"
      ],
      "metadata": {
        "trusted": true,
        "execution": {
          "iopub.status.busy": "2025-02-11T20:34:30.318375Z",
          "iopub.execute_input": "2025-02-11T20:34:30.318829Z",
          "iopub.status.idle": "2025-02-11T20:34:30.502994Z",
          "shell.execute_reply.started": "2025-02-11T20:34:30.318801Z",
          "shell.execute_reply": "2025-02-11T20:34:30.50157Z"
        },
        "id": "D_cQ4ZpNGcxY"
      },
      "outputs": [],
      "execution_count": null
    },
    {
      "cell_type": "markdown",
      "source": [
        "In the tutorial, our discussion of kernels and feature maps was mainly visual. We saw the effect of `Conv2D` and `ReLU` by observing how they transformed some example images.\n",
        "\n",
        "But the operations in a convolutional network (like in all neural networks) are usually defined through mathematical functions, through a computation on numbers. In the next exercise, we'll take a moment to explore this point of view.\n",
        "\n",
        "Let's start by defining a simple array to act as an image, and another array to act as the kernel. Run the following cell to see these arrays."
      ],
      "metadata": {
        "id": "a0GtaPR5GcxY"
      }
    },
    {
      "cell_type": "code",
      "source": [
        "# Sympy is a python library for symbolic mathematics. It has a nice\n",
        "# pretty printer for matrices, which is all we'll use it for.\n",
        "import sympy\n",
        "sympy.init_printing()\n",
        "from IPython.display import display\n",
        "\n",
        "image = np.array([\n",
        "    [0, 1, 0, 0, 0, 0],\n",
        "    [0, 1, 0, 0, 0, 0],\n",
        "    [0, 1, 0, 0, 0, 0],\n",
        "    [0, 1, 0, 0, 0, 0],\n",
        "    [0, 1, 0, 1, 1, 1],\n",
        "    [0, 1, 0, 0, 0, 0],\n",
        "])\n",
        "\n",
        "kernel = np.array([\n",
        "    [1, -1],\n",
        "    [1, -1],\n",
        "])\n",
        "\n",
        "display(sympy.Matrix(image))\n",
        "display(sympy.Matrix(kernel))\n",
        "# Reformat for Tensorflow\n",
        "image = tf.cast(image, dtype=tf.float32)\n",
        "image = tf.reshape(image, [1, *image.shape, 1])\n",
        "kernel = tf.reshape(kernel, [*kernel.shape, 1, 1])\n",
        "kernel = tf.cast(kernel, dtype=tf.float32)"
      ],
      "metadata": {
        "trusted": true,
        "execution": {
          "iopub.status.busy": "2025-02-11T20:35:34.566129Z",
          "iopub.execute_input": "2025-02-11T20:35:34.566587Z",
          "iopub.status.idle": "2025-02-11T20:35:35.162507Z",
          "shell.execute_reply.started": "2025-02-11T20:35:34.566555Z",
          "shell.execute_reply": "2025-02-11T20:35:35.161228Z"
        },
        "id": "SrO4ttlnGcxY"
      },
      "outputs": [],
      "execution_count": null
    },
    {
      "cell_type": "markdown",
      "source": [
        "# 4) Observe Convolution on a Numerical Matrix #\n",
        "\n",
        "\n",
        "What do you see? The image is simply a long vertical line on the left and a short horizontal line on the lower right. What about the kernel? What effect do you think it will have on this image? After you've thought about it, run the next cell for the answer."
      ],
      "metadata": {
        "id": "NPYvzRcTGcxY"
      }
    },
    {
      "cell_type": "code",
      "source": [
        "# View the solution (Run this code cell to receive credit!)\n",
        "q_4.check()"
      ],
      "metadata": {
        "lines_to_next_cell": 2,
        "trusted": true,
        "execution": {
          "iopub.status.busy": "2025-02-11T20:36:00.410109Z",
          "iopub.execute_input": "2025-02-11T20:36:00.411052Z",
          "iopub.status.idle": "2025-02-11T20:36:00.421017Z",
          "shell.execute_reply.started": "2025-02-11T20:36:00.411013Z",
          "shell.execute_reply": "2025-02-11T20:36:00.419561Z"
        },
        "id": "87Z-BIViGcxY"
      },
      "outputs": [],
      "execution_count": null
    },
    {
      "cell_type": "markdown",
      "source": [
        "Now let's try it out. Run the next cell to apply convolution and ReLU to the image and display the result."
      ],
      "metadata": {
        "id": "jDN9AMWYGcxY"
      }
    },
    {
      "cell_type": "code",
      "source": [
        "image_filter = tf.nn.conv2d(\n",
        "    input=image,\n",
        "    filters=kernel,\n",
        "    strides=1,\n",
        "    padding='VALID',\n",
        ")\n",
        "image_detect = tf.nn.relu(image_filter)\n",
        "\n",
        "# The first matrix is the image after convolution, and the second is\n",
        "# the image after ReLU.\n",
        "display(sympy.Matrix(tf.squeeze(image_filter).numpy()))\n",
        "display(sympy.Matrix(tf.squeeze(image_detect).numpy()))"
      ],
      "metadata": {
        "trusted": true,
        "execution": {
          "iopub.status.busy": "2025-02-11T20:36:33.315226Z",
          "iopub.execute_input": "2025-02-11T20:36:33.315684Z",
          "iopub.status.idle": "2025-02-11T20:36:33.425943Z",
          "shell.execute_reply.started": "2025-02-11T20:36:33.315653Z",
          "shell.execute_reply": "2025-02-11T20:36:33.424612Z"
        },
        "id": "sveNgR6-GcxY"
      },
      "outputs": [],
      "execution_count": null
    },
    {
      "cell_type": "markdown",
      "source": [
        "Is the result what you expected?\n",
        "\n",
        "# Conclusion #\n",
        "\n",
        "In this lesson, you learned about the first two operations a convolutional classifier uses for feature extraction: **filtering** an image with a **convolution** and **detecting** the feature with the **rectified linear unit**.\n",
        "\n",
        "# Keep Going #\n",
        "\n",
        "Move on to [**Lesson 3**](https://www.kaggle.com/ryanholbrook/maximum-pooling) to learn the final operation: **condensing** the feature map with **maximum pooling**!"
      ],
      "metadata": {
        "id": "59Q_WANzGcxY"
      }
    },
    {
      "cell_type": "markdown",
      "source": [
        "---\n",
        "\n",
        "\n",
        "\n",
        "\n",
        "*Have questions or comments? Visit the [course discussion forum](https://www.kaggle.com/learn/computer-vision/discussion) to chat with other learners.*"
      ],
      "metadata": {
        "id": "DOi2bRUAGcxY"
      }
    }
  ]
}